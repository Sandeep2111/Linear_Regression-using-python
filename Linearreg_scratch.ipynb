{
  "nbformat": 4,
  "nbformat_minor": 0,
  "metadata": {
    "colab": {
      "name": "Linearreg_scratch.ipynb",
      "provenance": [],
      "collapsed_sections": []
    },
    "kernelspec": {
      "name": "python3",
      "display_name": "Python 3"
    }
  },
  "cells": [
    {
      "cell_type": "code",
      "metadata": {
        "id": "r14qftNd0mv7",
        "outputId": "558621b8-35a4-4cf9-bdc7-17850f6069ee",
        "colab": {
          "base_uri": "https://localhost:8080/",
          "height": 534
        }
      },
      "source": [
        "import numpy as np\n",
        "from sklearn.model_selection import train_test_split\n",
        "from sklearn import datasets\n",
        "import matplotlib.pyplot as plt\n",
        "\n",
        "X,y=datasets.make_regression(n_samples=100,n_features=1,noise=20,random_state=4)\n",
        "X_train,X_test,y_train,y_test=train_test_split(X,y,test_size=0.2,random_state=123)\n",
        "\n",
        "print('X_train_shape:',X_train.shape)\n",
        "print('y_train_shape:',y_train.shape)\n",
        "plt.figure(figsize=(8,8))\n",
        "plt.scatter(X[:,0],y)\n",
        "\n"
      ],
      "execution_count": 159,
      "outputs": [
        {
          "output_type": "stream",
          "text": [
            "X_train_shape: (80, 1)\n",
            "y_train_shape: (80,)\n"
          ],
          "name": "stdout"
        },
        {
          "output_type": "execute_result",
          "data": {
            "text/plain": [
              "<matplotlib.collections.PathCollection at 0x7f6ff3216ac8>"
            ]
          },
          "metadata": {
            "tags": []
          },
          "execution_count": 159
        },
        {
          "output_type": "display_data",
          "data": {
            "image/png": "[encoded data removed]",
            "text/plain": [
              "<Figure size 576x576 with 1 Axes>"
            ]
          },
          "metadata": {
            "tags": [],
            "needs_background": "light"
          }
        }
      ]
    },
    {
      "cell_type": "code",
      "metadata": {
        "id": "PXp0m1E3y3MF"
      },
      "source": [
        "class linear_regression():\n",
        "  def __init__ (self,lr=0.001,n_iters=1000):\n",
        "    self.lr=lr\n",
        "    self.n_iters=n_iters\n",
        "    self.weights=None\n",
        "    self.bias=None\n",
        "\n",
        "\n",
        "  def fit (self,X,y):\n",
        "    #initialize parameters\n",
        "    n_samples,n_features=X.shape\n",
        "    self.weights=np.random.randn(n_features)*0.001\n",
        "    self.bias=0\n",
        "\n",
        "    for _ in range(self.n_iters):\n",
        "      y_predicted=np.dot(X,self.weights) +self.bias\n",
        "      dw=(1/(n_samples)) * np.sum((np.dot(X.T,(y_predicted-y))))\n",
        "      db=(1/(n_samples)) * np.sum((y_predicted-y))\n",
        "\n",
        "      self.weights= self.weights - (self.lr*(1/n_samples)) * dw\n",
        "      self.bias=self.bias-(self.lr*(1/n_samples))* db\n",
        "\n",
        "\n",
        "\n",
        "  def predict(self,x):\n",
        "    y_predicted=np.dot(x,self.weights) +self.bias\n",
        "\n",
        "    return y_predicted\n",
        "\n",
        "\n"
      ],
      "execution_count": 160,
      "outputs": []
    },
    {
      "cell_type": "code",
      "metadata": {
        "id": "igIc0_eu0mG4"
      },
      "source": [
        "regressor=linear_regression(lr=1)\n",
        "regressor.fit(X_train,y_train)"
      ],
      "execution_count": 169,
      "outputs": []
    },
    {
      "cell_type": "code",
      "metadata": {
        "id": "gfydmjSI9-jr"
      },
      "source": [
        "predicted=regressor.predict(X_test)"
      ],
      "execution_count": 170,
      "outputs": []
    },
    {
      "cell_type": "code",
      "metadata": {
        "id": "D4EiC-o9E4kO"
      },
      "source": [
        "n_samples=X.shape[0]\n",
        "def mse(y_true,predicted):\n",
        "  cost=(1/(2*n_samples)) *np.sum(np.square(predicted-y_true))\n",
        "  return cost"
      ],
      "execution_count": 171,
      "outputs": []
    },
    {
      "cell_type": "code",
      "metadata": {
        "id": "9LkwVPHLFjhg",
        "outputId": "0fdc71bc-7e50-4859-a47d-42bd8d2680cd",
        "colab": {
          "base_uri": "https://localhost:8080/",
          "height": 34
        }
      },
      "source": [
        "mse(y_test,predicted)"
      ],
      "execution_count": 172,
      "outputs": [
        {
          "output_type": "execute_result",
          "data": {
            "text/plain": [
              "38.00304016841152"
            ]
          },
          "metadata": {
            "tags": []
          },
          "execution_count": 172
        }
      ]
    },
    {
      "cell_type": "code",
      "metadata": {
        "id": "DF-bXXIqFlY-",
        "outputId": "57fb4f8c-3e8e-485d-8338-21686b63912d",
        "colab": {
          "base_uri": "https://localhost:8080/",
          "height": 34
        }
      },
      "source": [
        "predicted.shape"
      ],
      "execution_count": 173,
      "outputs": [
        {
          "output_type": "execute_result",
          "data": {
            "text/plain": [
              "(20,)"
            ]
          },
          "metadata": {
            "tags": []
          },
          "execution_count": 173
        }
      ]
    },
    {
      "cell_type": "code",
      "metadata": {
        "id": "qGlcpncUGi7x",
        "outputId": "1a8e3398-2c7b-4c86-e397-106153a699e9",
        "colab": {
          "base_uri": "https://localhost:8080/",
          "height": 102
        }
      },
      "source": [
        "y_test"
      ],
      "execution_count": 174,
      "outputs": [
        {
          "output_type": "execute_result",
          "data": {
            "text/plain": [
              "array([ -95.34105851,   69.64956653,   17.68768961,   10.77367111,\n",
              "         -5.54348338, -126.24922409,   -2.75191769,  -90.60148118,\n",
              "        -58.51318402,   -5.72954025,   46.41287784,    8.3784894 ,\n",
              "         -4.40463276,   37.43779494, -181.34840044,  -77.78704394,\n",
              "        -24.03585202, -105.56283971,   64.53968736,    9.55981705])"
            ]
          },
          "metadata": {
            "tags": []
          },
          "execution_count": 174
        }
      ]
    },
    {
      "cell_type": "code",
      "metadata": {
        "id": "qlgBLnBWGn4m",
        "outputId": "5649fe77-5a85-4d4d-982c-a9bfbf4c4167",
        "colab": {
          "base_uri": "https://localhost:8080/",
          "height": 534
        }
      },
      "source": [
        "print('X_train_shape:',X_train.shape)\n",
        "print('y_train_shape:',y_train.shape)\n",
        "plt.figure(figsize=(12,8))\n",
        "plt.scatter(X[:,0],y)"
      ],
      "execution_count": 177,
      "outputs": [
        {
          "output_type": "stream",
          "text": [
            "X_train_shape: (80, 1)\n",
            "y_train_shape: (80,)\n"
          ],
          "name": "stdout"
        },
        {
          "output_type": "execute_result",
          "data": {
            "text/plain": [
              "<matplotlib.collections.PathCollection at 0x7f6ff32c1fd0>"
            ]
          },
          "metadata": {
            "tags": []
          },
          "execution_count": 177
        },
        {
          "output_type": "display_data",
          "data": {
            "image/png": "[encoded data removed]",
            "text/plain": [
              "<Figure size 864x576 with 1 Axes>"
            ]
          },
          "metadata": {
            "tags": [],
            "needs_background": "light"
          }
        }
      ]
    },
    {
      "cell_type": "code",
      "metadata": {
        "id": "Kqy6QXI4Y9k8"
      },
      "source": [
        ""
      ],
      "execution_count": 175,
      "outputs": []
    },
    {
      "cell_type": "code",
      "metadata": {
        "id": "R2Yb_DqWZCGC",
        "outputId": "5e5f9a36-963a-4951-b584-ff024397796b",
        "colab": {
          "base_uri": "https://localhost:8080/",
          "height": 485
        }
      },
      "source": [
        "y_pred_line=regressor.predict(X)\n",
        "cmap=plt.get_cmap('viridis')\n",
        "fig=plt.figure(figsize=(12,8))\n",
        "m1=plt.scatter(X_train,y_train,color=cmap(0.9),s=10)\n",
        "m2=plt.scatter(X_test,y_test,color=cmap(0.1),s=10)\n",
        "plt.plot(X,y_pred_line,color='black',linewidth=2,label='Prediction')\n",
        "plt.show()"
      ],
      "execution_count": 176,
      "outputs": [
        {
          "output_type": "display_data",
          "data": {
            "image/png": "[encoded data removed]",
            "text/plain": [
              "<Figure size 864x576 with 1 Axes>"
            ]
          },
          "metadata": {
            "tags": [],
            "needs_background": "light"
          }
        }
      ]
    },
    {
      "cell_type": "code",
      "metadata": {
        "id": "sPrpbjwVaSph",
        "outputId": "bd886a89-31e6-490c-a6df-8b81361a11be",
        "colab": {
          "base_uri": "https://localhost:8080/",
          "height": 34
        }
      },
      "source": [
        "X_train.shape"
      ],
      "execution_count": 181,
      "outputs": [
        {
          "output_type": "execute_result",
          "data": {
            "text/plain": [
              "(80, 1)"
            ]
          },
          "metadata": {
            "tags": []
          },
          "execution_count": 181
        }
      ]
    },
    {
      "cell_type": "code",
      "metadata": {
        "id": "_ZoMt0ZHchV2"
      },
      "source": [
        ""
      ],
      "execution_count": null,
      "outputs": []
    }
  ]
}